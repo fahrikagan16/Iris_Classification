{
 "cells": [
  {
   "cell_type": "code",
   "execution_count": 1,
   "id": "405c8f62-683a-4be9-bcc0-6f6e865f9379",
   "metadata": {},
   "outputs": [],
   "source": [
    "#imports"
   ]
  },
  {
   "cell_type": "code",
   "execution_count": 2,
   "id": "efca1554-5b96-44d2-af2b-fbc2a6a06fbb",
   "metadata": {},
   "outputs": [],
   "source": [
    "import tensorflow as tf\n",
    "import cv2,imghdr,os,keras\n",
    "from matplotlib import pyplot as plt\n",
    "import numpy as np\n",
    "from sklearn.model_selection import train_test_split\n",
    "from sklearn import preprocessing\n",
    "import pickle,time\n",
    "import pandas as pd"
   ]
  },
  {
   "cell_type": "code",
   "execution_count": 3,
   "id": "dafd97b3-447d-4fad-b789-6a0a31c8abbe",
   "metadata": {},
   "outputs": [],
   "source": [
    "#gpu oom prevent code block"
   ]
  },
  {
   "cell_type": "code",
   "execution_count": 4,
   "id": "628ddb91-751b-45b6-91e4-c376af5d10e2",
   "metadata": {},
   "outputs": [],
   "source": [
    "gpus = tf.config.experimental.list_physical_devices(\"GPU\")\n",
    "for gpu in gpus:\n",
    "    tf.config.experimental.set_memory_growth(gpu,True)"
   ]
  },
  {
   "cell_type": "code",
   "execution_count": 5,
   "id": "7fbb21d9-226d-4770-b1a7-15cff6ba5f73",
   "metadata": {},
   "outputs": [],
   "source": [
    "#reading and organizing data"
   ]
  },
  {
   "cell_type": "code",
   "execution_count": 6,
   "id": "aba27edf-8fdf-41f7-82b6-211cd51a0621",
   "metadata": {},
   "outputs": [],
   "source": [
    "data_csv = \"data/Iris.csv\""
   ]
  },
  {
   "cell_type": "code",
   "execution_count": 7,
   "id": "3420732c-aed6-45a8-98df-8828848b66d0",
   "metadata": {},
   "outputs": [
    {
     "data": {
      "text/html": [
       "<div>\n",
       "<style scoped>\n",
       "    .dataframe tbody tr th:only-of-type {\n",
       "        vertical-align: middle;\n",
       "    }\n",
       "\n",
       "    .dataframe tbody tr th {\n",
       "        vertical-align: top;\n",
       "    }\n",
       "\n",
       "    .dataframe thead th {\n",
       "        text-align: right;\n",
       "    }\n",
       "</style>\n",
       "<table border=\"1\" class=\"dataframe\">\n",
       "  <thead>\n",
       "    <tr style=\"text-align: right;\">\n",
       "      <th></th>\n",
       "      <th>SepalLengthCm</th>\n",
       "      <th>SepalWidthCm</th>\n",
       "      <th>PetalLengthCm</th>\n",
       "      <th>PetalWidthCm</th>\n",
       "      <th>Species</th>\n",
       "    </tr>\n",
       "  </thead>\n",
       "  <tbody>\n",
       "    <tr>\n",
       "      <th>0</th>\n",
       "      <td>5.1</td>\n",
       "      <td>3.5</td>\n",
       "      <td>1.4</td>\n",
       "      <td>0.2</td>\n",
       "      <td>Iris-setosa</td>\n",
       "    </tr>\n",
       "    <tr>\n",
       "      <th>1</th>\n",
       "      <td>4.9</td>\n",
       "      <td>3.0</td>\n",
       "      <td>1.4</td>\n",
       "      <td>0.2</td>\n",
       "      <td>Iris-setosa</td>\n",
       "    </tr>\n",
       "    <tr>\n",
       "      <th>2</th>\n",
       "      <td>4.7</td>\n",
       "      <td>3.2</td>\n",
       "      <td>1.3</td>\n",
       "      <td>0.2</td>\n",
       "      <td>Iris-setosa</td>\n",
       "    </tr>\n",
       "    <tr>\n",
       "      <th>3</th>\n",
       "      <td>4.6</td>\n",
       "      <td>3.1</td>\n",
       "      <td>1.5</td>\n",
       "      <td>0.2</td>\n",
       "      <td>Iris-setosa</td>\n",
       "    </tr>\n",
       "    <tr>\n",
       "      <th>4</th>\n",
       "      <td>5.0</td>\n",
       "      <td>3.6</td>\n",
       "      <td>1.4</td>\n",
       "      <td>0.2</td>\n",
       "      <td>Iris-setosa</td>\n",
       "    </tr>\n",
       "  </tbody>\n",
       "</table>\n",
       "</div>"
      ],
      "text/plain": [
       "   SepalLengthCm  SepalWidthCm  PetalLengthCm  PetalWidthCm      Species\n",
       "0            5.1           3.5            1.4           0.2  Iris-setosa\n",
       "1            4.9           3.0            1.4           0.2  Iris-setosa\n",
       "2            4.7           3.2            1.3           0.2  Iris-setosa\n",
       "3            4.6           3.1            1.5           0.2  Iris-setosa\n",
       "4            5.0           3.6            1.4           0.2  Iris-setosa"
      ]
     },
     "execution_count": 7,
     "metadata": {},
     "output_type": "execute_result"
    }
   ],
   "source": [
    "data_df = pd.read_csv(data_csv)\n",
    "data_df = data_df.drop(columns=[\"Id\"])\n",
    "data_df.head()"
   ]
  },
  {
   "cell_type": "code",
   "execution_count": 8,
   "id": "41e3527e-ee61-4caa-859e-7fe123f371b2",
   "metadata": {},
   "outputs": [],
   "source": [
    "X = data_df.iloc[:,0:4].values"
   ]
  },
  {
   "cell_type": "code",
   "execution_count": 9,
   "id": "9777f8f9-2f02-4391-a4dc-aff54271f2cf",
   "metadata": {},
   "outputs": [],
   "source": [
    "y = data_df.iloc[:,4].values"
   ]
  },
  {
   "cell_type": "code",
   "execution_count": 10,
   "id": "1332c099-f0eb-4f37-afcc-9c9834891fe5",
   "metadata": {},
   "outputs": [
    {
     "name": "stdout",
     "output_type": "stream",
     "text": [
      "[[5.1 3.5 1.4 0.2]\n",
      " [4.9 3.  1.4 0.2]\n",
      " [4.7 3.2 1.3 0.2]\n",
      " [4.6 3.1 1.5 0.2]\n",
      " [5.  3.6 1.4 0.2]]\n"
     ]
    }
   ],
   "source": [
    "print(X[0:5])"
   ]
  },
  {
   "cell_type": "code",
   "execution_count": 11,
   "id": "608508c2-3d58-4a23-aae5-98948dc30fcf",
   "metadata": {},
   "outputs": [
    {
     "name": "stdout",
     "output_type": "stream",
     "text": [
      "['Iris-setosa' 'Iris-setosa' 'Iris-setosa' 'Iris-setosa' 'Iris-setosa']\n"
     ]
    }
   ],
   "source": [
    "print(y[0:5])"
   ]
  },
  {
   "cell_type": "code",
   "execution_count": 12,
   "id": "6b33f5c9-c6f0-43f1-b6fd-75ea358f0a87",
   "metadata": {},
   "outputs": [
    {
     "name": "stdout",
     "output_type": "stream",
     "text": [
      "(150, 4)\n",
      "(150,)\n"
     ]
    }
   ],
   "source": [
    "print(X.shape)\n",
    "print(y.shape)"
   ]
  },
  {
   "cell_type": "code",
   "execution_count": 13,
   "id": "8aadae39-412e-43ae-bfca-3dfb331fb6f6",
   "metadata": {},
   "outputs": [
    {
     "name": "stdout",
     "output_type": "stream",
     "text": [
      "[0 0 0 0 0 0 0 0 0 0 0 0 0 0 0 0 0 0 0 0 0 0 0 0 0 0 0 0 0 0 0 0 0 0 0 0 0\n",
      " 0 0 0 0 0 0 0 0 0 0 0 0 0 1 1 1 1 1 1 1 1 1 1 1 1 1 1 1 1 1 1 1 1 1 1 1 1\n",
      " 1 1 1 1 1 1 1 1 1 1 1 1 1 1 1 1 1 1 1 1 1 1 1 1 1 1 2 2 2 2 2 2 2 2 2 2 2\n",
      " 2 2 2 2 2 2 2 2 2 2 2 2 2 2 2 2 2 2 2 2 2 2 2 2 2 2 2 2 2 2 2 2 2 2 2 2 2\n",
      " 2 2]\n"
     ]
    }
   ],
   "source": [
    "encoder = preprocessing.LabelEncoder()\n",
    "y = encoder.fit_transform(y)\n",
    "print(y)"
   ]
  },
  {
   "cell_type": "code",
   "execution_count": 14,
   "id": "71de2d56-110f-4cc4-883e-ca86da37e123",
   "metadata": {},
   "outputs": [
    {
     "name": "stdout",
     "output_type": "stream",
     "text": [
      "[[1 0 0]\n",
      " [1 0 0]\n",
      " [1 0 0]\n",
      " [1 0 0]\n",
      " [1 0 0]]\n"
     ]
    }
   ],
   "source": [
    "y = pd.get_dummies(y,dtype=int).values\n",
    "print(y[:5])"
   ]
  },
  {
   "cell_type": "code",
   "execution_count": 15,
   "id": "61a211ca-8193-4ab8-9e06-d49186bd5afa",
   "metadata": {},
   "outputs": [],
   "source": [
    "#splitting data"
   ]
  },
  {
   "cell_type": "code",
   "execution_count": 16,
   "id": "b3578ebf-2376-4ad9-bf34-c47072de6994",
   "metadata": {},
   "outputs": [],
   "source": [
    "x_train, x_test, y_train, y_test = train_test_split(X,y, test_size=0.15)"
   ]
  },
  {
   "cell_type": "code",
   "execution_count": 17,
   "id": "52dcdd24-f728-46ff-a958-d5ce70e8d465",
   "metadata": {
    "tags": []
   },
   "outputs": [
    {
     "name": "stdout",
     "output_type": "stream",
     "text": [
      "[[5.6 3.  4.5 1.5]\n",
      " [5.7 4.4 1.5 0.4]\n",
      " [5.1 3.8 1.5 0.3]\n",
      " [5.5 2.3 4.  1.3]\n",
      " [6.7 3.1 5.6 2.4]]\n"
     ]
    }
   ],
   "source": [
    "print(x_train[0:5])"
   ]
  },
  {
   "cell_type": "code",
   "execution_count": 18,
   "id": "9b983758-b755-4d70-b252-f92a53d1e563",
   "metadata": {},
   "outputs": [
    {
     "name": "stdout",
     "output_type": "stream",
     "text": [
      "[[0 1 0]\n",
      " [1 0 0]\n",
      " [1 0 0]\n",
      " [0 1 0]\n",
      " [0 0 1]]\n"
     ]
    }
   ],
   "source": [
    "print(y_train[0:5])"
   ]
  },
  {
   "cell_type": "code",
   "execution_count": 19,
   "id": "5239d9cd-be6a-406a-8310-2c0fad9f5fe5",
   "metadata": {},
   "outputs": [
    {
     "name": "stdout",
     "output_type": "stream",
     "text": [
      "[[5.5 2.4 3.7 1. ]\n",
      " [6.7 3.1 4.4 1.4]\n",
      " [6.2 2.2 4.5 1.5]\n",
      " [5.7 3.  4.2 1.2]\n",
      " [6.5 3.  5.2 2. ]]\n"
     ]
    }
   ],
   "source": [
    "print(x_test[0:5])"
   ]
  },
  {
   "cell_type": "code",
   "execution_count": 20,
   "id": "8dac5ada-3ffa-4dd1-aaa8-c0a36627fcdd",
   "metadata": {},
   "outputs": [
    {
     "name": "stdout",
     "output_type": "stream",
     "text": [
      "[[0 1 0]\n",
      " [0 1 0]\n",
      " [0 1 0]\n",
      " [0 1 0]\n",
      " [0 0 1]]\n"
     ]
    }
   ],
   "source": [
    "print(y_test[0:5])"
   ]
  },
  {
   "cell_type": "code",
   "execution_count": 21,
   "id": "4811c0bb-3bea-4d84-88c2-70fa8e01979a",
   "metadata": {},
   "outputs": [],
   "source": [
    "#creating model"
   ]
  },
  {
   "cell_type": "code",
   "execution_count": 22,
   "id": "ade84597-4cae-47a6-ada8-3f670f44e056",
   "metadata": {},
   "outputs": [],
   "source": [
    "from keras.models import Sequential\n",
    "from keras.layers import Conv2D,MaxPool2D,Dense,BatchNormalization,Flatten,Dropout"
   ]
  },
  {
   "cell_type": "code",
   "execution_count": 23,
   "id": "964a8b6e-6ecd-41f1-8817-a92a27da8c91",
   "metadata": {},
   "outputs": [
    {
     "data": {
      "text/plain": [
       "(127, 4)"
      ]
     },
     "execution_count": 23,
     "metadata": {},
     "output_type": "execute_result"
    }
   ],
   "source": [
    "x_train.shape"
   ]
  },
  {
   "cell_type": "code",
   "execution_count": 24,
   "id": "7d036d31-3553-4fa0-84c8-0ab86fbf3c1e",
   "metadata": {},
   "outputs": [
    {
     "data": {
      "text/plain": [
       "127"
      ]
     },
     "execution_count": 24,
     "metadata": {},
     "output_type": "execute_result"
    }
   ],
   "source": [
    "x_train.shape[0]"
   ]
  },
  {
   "cell_type": "code",
   "execution_count": 25,
   "id": "633932fb-5d38-4e12-b89d-76526e2513f8",
   "metadata": {},
   "outputs": [],
   "source": [
    "logdir = \"logs\""
   ]
  },
  {
   "cell_type": "code",
   "execution_count": 26,
   "id": "7b8f6986-2ace-42e1-8ef4-0ab396e1a567",
   "metadata": {},
   "outputs": [],
   "source": [
    "#optimizing model\n",
    "#layer_sizes = [32,64,128]\n",
    "#dense_layers  = [1,2,3]"
   ]
  },
  {
   "cell_type": "code",
   "execution_count": 27,
   "id": "b95904b7-6c47-4bae-aad3-85ab9921d954",
   "metadata": {},
   "outputs": [],
   "source": [
    "#after optimizing 128 layer sizes and 1 dense layer seems to be optimal."
   ]
  },
  {
   "cell_type": "code",
   "execution_count": 28,
   "id": "33da2498-a03e-426a-bd94-b5a765227886",
   "metadata": {},
   "outputs": [],
   "source": [
    "layer_sizes = [128]\n",
    "dense_layers  = [1]"
   ]
  },
  {
   "cell_type": "code",
   "execution_count": 29,
   "id": "cbde9f7e-458c-4c08-81b6-b5ae03fea454",
   "metadata": {
    "tags": []
   },
   "outputs": [
    {
     "name": "stdout",
     "output_type": "stream",
     "text": [
      " Layer Size: 128, Dense Layer: 1,--1691443878\n",
      "Model: \"sequential\"\n",
      "_________________________________________________________________\n",
      " Layer (type)                Output Shape              Param #   \n",
      "=================================================================\n",
      " dense (Dense)               (None, 128)               640       \n",
      "                                                                 \n",
      " dense_1 (Dense)             (None, 128)               16512     \n",
      "                                                                 \n",
      " dense_2 (Dense)             (None, 3)                 387       \n",
      "                                                                 \n",
      "=================================================================\n",
      "Total params: 17,539\n",
      "Trainable params: 17,539\n",
      "Non-trainable params: 0\n",
      "_________________________________________________________________\n",
      "Epoch 1/100\n",
      "4/4 [==============================] - 1s 52ms/step - loss: 1.6598 - accuracy: 0.1339 - val_loss: 1.1930 - val_accuracy: 0.5217\n",
      "Epoch 2/100\n",
      "4/4 [==============================] - 0s 12ms/step - loss: 1.1579 - accuracy: 0.4173 - val_loss: 1.0711 - val_accuracy: 0.3043\n",
      "Epoch 3/100\n",
      "4/4 [==============================] - 0s 11ms/step - loss: 1.0346 - accuracy: 0.3386 - val_loss: 1.0413 - val_accuracy: 0.3043\n",
      "Epoch 4/100\n",
      "4/4 [==============================] - 0s 10ms/step - loss: 0.9577 - accuracy: 0.3465 - val_loss: 0.9235 - val_accuracy: 0.3913\n",
      "Epoch 5/100\n",
      "4/4 [==============================] - 0s 10ms/step - loss: 0.8475 - accuracy: 0.6220 - val_loss: 0.8310 - val_accuracy: 0.9130\n",
      "Epoch 6/100\n",
      "4/4 [==============================] - 0s 10ms/step - loss: 0.7724 - accuracy: 0.9370 - val_loss: 0.7695 - val_accuracy: 0.9130\n",
      "Epoch 7/100\n",
      "4/4 [==============================] - 0s 10ms/step - loss: 0.7235 - accuracy: 0.8740 - val_loss: 0.7149 - val_accuracy: 0.8696\n",
      "Epoch 8/100\n",
      "4/4 [==============================] - 0s 10ms/step - loss: 0.6601 - accuracy: 0.7480 - val_loss: 0.6595 - val_accuracy: 0.8696\n",
      "Epoch 9/100\n",
      "4/4 [==============================] - 0s 10ms/step - loss: 0.6166 - accuracy: 0.6772 - val_loss: 0.6192 - val_accuracy: 0.6522\n",
      "Epoch 10/100\n",
      "4/4 [==============================] - 0s 10ms/step - loss: 0.5687 - accuracy: 0.7717 - val_loss: 0.5735 - val_accuracy: 0.9565\n",
      "Epoch 11/100\n",
      "4/4 [==============================] - 0s 10ms/step - loss: 0.5282 - accuracy: 0.9528 - val_loss: 0.5363 - val_accuracy: 0.9130\n",
      "Epoch 12/100\n",
      "4/4 [==============================] - 0s 10ms/step - loss: 0.4933 - accuracy: 0.9291 - val_loss: 0.5009 - val_accuracy: 0.9130\n",
      "Epoch 13/100\n",
      "4/4 [==============================] - 0s 10ms/step - loss: 0.4619 - accuracy: 0.9134 - val_loss: 0.4614 - val_accuracy: 0.9130\n",
      "Epoch 14/100\n",
      "4/4 [==============================] - 0s 10ms/step - loss: 0.4306 - accuracy: 0.9213 - val_loss: 0.4312 - val_accuracy: 0.9565\n",
      "Epoch 15/100\n",
      "4/4 [==============================] - 0s 10ms/step - loss: 0.4071 - accuracy: 0.9370 - val_loss: 0.4054 - val_accuracy: 0.9565\n",
      "Epoch 16/100\n",
      "4/4 [==============================] - 0s 10ms/step - loss: 0.3855 - accuracy: 0.9685 - val_loss: 0.3826 - val_accuracy: 0.9565\n",
      "Epoch 17/100\n",
      "4/4 [==============================] - 0s 10ms/step - loss: 0.3651 - accuracy: 0.9685 - val_loss: 0.3616 - val_accuracy: 0.9565\n",
      "Epoch 18/100\n",
      "4/4 [==============================] - 0s 10ms/step - loss: 0.3494 - accuracy: 0.9685 - val_loss: 0.3420 - val_accuracy: 0.9565\n",
      "Epoch 19/100\n",
      "4/4 [==============================] - 0s 10ms/step - loss: 0.3311 - accuracy: 0.9528 - val_loss: 0.3265 - val_accuracy: 0.9565\n",
      "Epoch 20/100\n",
      "4/4 [==============================] - 0s 10ms/step - loss: 0.3279 - accuracy: 0.9291 - val_loss: 0.3095 - val_accuracy: 1.0000\n",
      "Epoch 21/100\n",
      "4/4 [==============================] - 0s 10ms/step - loss: 0.2947 - accuracy: 0.9843 - val_loss: 0.2907 - val_accuracy: 0.9565\n",
      "Epoch 22/100\n",
      "4/4 [==============================] - 0s 12ms/step - loss: 0.2843 - accuracy: 0.9528 - val_loss: 0.2775 - val_accuracy: 0.9565\n",
      "Epoch 23/100\n",
      "4/4 [==============================] - 0s 10ms/step - loss: 0.2706 - accuracy: 0.9685 - val_loss: 0.2644 - val_accuracy: 1.0000\n",
      "Epoch 24/100\n",
      "4/4 [==============================] - 0s 10ms/step - loss: 0.2595 - accuracy: 0.9528 - val_loss: 0.2482 - val_accuracy: 0.9565\n",
      "Epoch 25/100\n",
      "4/4 [==============================] - 0s 10ms/step - loss: 0.2439 - accuracy: 0.9764 - val_loss: 0.2367 - val_accuracy: 0.9565\n",
      "Epoch 26/100\n",
      "4/4 [==============================] - 0s 10ms/step - loss: 0.2366 - accuracy: 0.9606 - val_loss: 0.2236 - val_accuracy: 0.9565\n",
      "Epoch 27/100\n",
      "4/4 [==============================] - 0s 11ms/step - loss: 0.2168 - accuracy: 0.9764 - val_loss: 0.2221 - val_accuracy: 1.0000\n",
      "Epoch 28/100\n",
      "4/4 [==============================] - 0s 10ms/step - loss: 0.2165 - accuracy: 0.9449 - val_loss: 0.2064 - val_accuracy: 1.0000\n",
      "Epoch 29/100\n",
      "4/4 [==============================] - 0s 10ms/step - loss: 0.2036 - accuracy: 0.9764 - val_loss: 0.1938 - val_accuracy: 0.9565\n",
      "Epoch 30/100\n",
      "4/4 [==============================] - 0s 10ms/step - loss: 0.1974 - accuracy: 0.9764 - val_loss: 0.1855 - val_accuracy: 0.9565\n",
      "Epoch 31/100\n",
      "4/4 [==============================] - 0s 10ms/step - loss: 0.1832 - accuracy: 0.9764 - val_loss: 0.1745 - val_accuracy: 0.9565\n",
      "Epoch 32/100\n",
      "4/4 [==============================] - 0s 10ms/step - loss: 0.1751 - accuracy: 0.9764 - val_loss: 0.1682 - val_accuracy: 0.9565\n",
      "Epoch 33/100\n",
      "4/4 [==============================] - 0s 10ms/step - loss: 0.1687 - accuracy: 0.9843 - val_loss: 0.1600 - val_accuracy: 0.9565\n",
      "Epoch 34/100\n",
      "4/4 [==============================] - 0s 10ms/step - loss: 0.1615 - accuracy: 0.9764 - val_loss: 0.1529 - val_accuracy: 0.9565\n",
      "Epoch 35/100\n",
      "4/4 [==============================] - 0s 10ms/step - loss: 0.1570 - accuracy: 0.9764 - val_loss: 0.1493 - val_accuracy: 1.0000\n",
      "Epoch 36/100\n",
      "4/4 [==============================] - 0s 10ms/step - loss: 0.1509 - accuracy: 0.9685 - val_loss: 0.1427 - val_accuracy: 0.9565\n",
      "Epoch 37/100\n",
      "4/4 [==============================] - 0s 10ms/step - loss: 0.1454 - accuracy: 0.9764 - val_loss: 0.1366 - val_accuracy: 0.9565\n",
      "Epoch 38/100\n",
      "4/4 [==============================] - 0s 10ms/step - loss: 0.1419 - accuracy: 0.9764 - val_loss: 0.1336 - val_accuracy: 1.0000\n",
      "Epoch 39/100\n",
      "4/4 [==============================] - 0s 12ms/step - loss: 0.1384 - accuracy: 0.9606 - val_loss: 0.1324 - val_accuracy: 1.0000\n",
      "Epoch 40/100\n",
      "4/4 [==============================] - 0s 11ms/step - loss: 0.1298 - accuracy: 0.9764 - val_loss: 0.1236 - val_accuracy: 0.9565\n",
      "Epoch 41/100\n",
      "4/4 [==============================] - 0s 12ms/step - loss: 0.1314 - accuracy: 0.9764 - val_loss: 0.1198 - val_accuracy: 0.9565\n",
      "Epoch 42/100\n",
      "4/4 [==============================] - 0s 12ms/step - loss: 0.1305 - accuracy: 0.9606 - val_loss: 0.1215 - val_accuracy: 1.0000\n",
      "Epoch 43/100\n",
      "4/4 [==============================] - 0s 12ms/step - loss: 0.1213 - accuracy: 0.9764 - val_loss: 0.1131 - val_accuracy: 0.9565\n",
      "Epoch 44/100\n",
      "4/4 [==============================] - 0s 12ms/step - loss: 0.1201 - accuracy: 0.9764 - val_loss: 0.1102 - val_accuracy: 0.9565\n",
      "Epoch 45/100\n",
      "4/4 [==============================] - 0s 12ms/step - loss: 0.1145 - accuracy: 0.9764 - val_loss: 0.1127 - val_accuracy: 1.0000\n",
      "Epoch 46/100\n",
      "4/4 [==============================] - 0s 12ms/step - loss: 0.1135 - accuracy: 0.9685 - val_loss: 0.1051 - val_accuracy: 0.9565\n",
      "Epoch 47/100\n",
      "4/4 [==============================] - 0s 11ms/step - loss: 0.1115 - accuracy: 0.9764 - val_loss: 0.1028 - val_accuracy: 0.9565\n",
      "Epoch 48/100\n",
      "4/4 [==============================] - 0s 11ms/step - loss: 0.1101 - accuracy: 0.9685 - val_loss: 0.1044 - val_accuracy: 1.0000\n",
      "Epoch 49/100\n",
      "4/4 [==============================] - 0s 11ms/step - loss: 0.1062 - accuracy: 0.9764 - val_loss: 0.0980 - val_accuracy: 0.9565\n",
      "Epoch 50/100\n",
      "4/4 [==============================] - 0s 10ms/step - loss: 0.1045 - accuracy: 0.9764 - val_loss: 0.0957 - val_accuracy: 0.9565\n",
      "Epoch 51/100\n",
      "4/4 [==============================] - 0s 10ms/step - loss: 0.1013 - accuracy: 0.9764 - val_loss: 0.0945 - val_accuracy: 0.9565\n",
      "Epoch 52/100\n",
      "4/4 [==============================] - 0s 10ms/step - loss: 0.1000 - accuracy: 0.9764 - val_loss: 0.0927 - val_accuracy: 0.9565\n",
      "Epoch 53/100\n",
      "4/4 [==============================] - 0s 10ms/step - loss: 0.0975 - accuracy: 0.9843 - val_loss: 0.0908 - val_accuracy: 0.9565\n",
      "Epoch 54/100\n",
      "4/4 [==============================] - 0s 10ms/step - loss: 0.0992 - accuracy: 0.9764 - val_loss: 0.0887 - val_accuracy: 0.9565\n",
      "Epoch 55/100\n",
      "4/4 [==============================] - 0s 10ms/step - loss: 0.1056 - accuracy: 0.9764 - val_loss: 0.0872 - val_accuracy: 0.9565\n",
      "Epoch 56/100\n",
      "4/4 [==============================] - 0s 10ms/step - loss: 0.0974 - accuracy: 0.9606 - val_loss: 0.0918 - val_accuracy: 1.0000\n",
      "Epoch 57/100\n",
      "4/4 [==============================] - 0s 10ms/step - loss: 0.0974 - accuracy: 0.9606 - val_loss: 0.0859 - val_accuracy: 0.9565\n",
      "Epoch 58/100\n",
      "4/4 [==============================] - 0s 12ms/step - loss: 0.0939 - accuracy: 0.9764 - val_loss: 0.0841 - val_accuracy: 1.0000\n",
      "Epoch 59/100\n",
      "4/4 [==============================] - 0s 12ms/step - loss: 0.0916 - accuracy: 0.9843 - val_loss: 0.0822 - val_accuracy: 0.9565\n",
      "Epoch 60/100\n",
      "4/4 [==============================] - 0s 11ms/step - loss: 0.0905 - accuracy: 0.9764 - val_loss: 0.0816 - val_accuracy: 0.9565\n",
      "Epoch 61/100\n",
      "4/4 [==============================] - 0s 11ms/step - loss: 0.0913 - accuracy: 0.9685 - val_loss: 0.0833 - val_accuracy: 1.0000\n",
      "Epoch 62/100\n",
      "4/4 [==============================] - 0s 11ms/step - loss: 0.0947 - accuracy: 0.9606 - val_loss: 0.0794 - val_accuracy: 0.9565\n",
      "Epoch 63/100\n",
      "4/4 [==============================] - 0s 11ms/step - loss: 0.0959 - accuracy: 0.9764 - val_loss: 0.0785 - val_accuracy: 0.9565\n",
      "Epoch 64/100\n",
      "4/4 [==============================] - 0s 11ms/step - loss: 0.0961 - accuracy: 0.9685 - val_loss: 0.0883 - val_accuracy: 1.0000\n",
      "Epoch 65/100\n",
      "4/4 [==============================] - 0s 11ms/step - loss: 0.0893 - accuracy: 0.9528 - val_loss: 0.0803 - val_accuracy: 0.9565\n",
      "Epoch 66/100\n",
      "4/4 [==============================] - 0s 10ms/step - loss: 0.0920 - accuracy: 0.9764 - val_loss: 0.0795 - val_accuracy: 0.9565\n"
     ]
    }
   ],
   "source": [
    "for dense_layer in dense_layers:\n",
    "    for layer_size in layer_sizes:\n",
    "        NAME = \" Layer Size: {}, Dense Layer: {},--{}\".format(layer_size,dense_layer,int(time.time()))\n",
    "        print(NAME)\n",
    "        \n",
    "        model = Sequential()\n",
    "        \n",
    "        model.add(Dense(layer_size, activation=\"relu\", input_shape=(4,)))\n",
    "        \n",
    "        for i in range (dense_layer):\n",
    "                                \n",
    "            model.add(Dense(layer_size, activation=\"relu\"))\n",
    "            \n",
    "        model.add(Dense(3,activation=\"softmax\"))\n",
    "            \n",
    "        tensorboard = tf.keras.callbacks.TensorBoard(log_dir=logdir.format(NAME))\n",
    "        early_stop = tf.keras.callbacks.EarlyStopping(monitor=\"val_loss\",patience=3)\n",
    "            \n",
    "        model.summary()\n",
    "            \n",
    "        model.compile(optimizer=\"adam\", loss=\"categorical_crossentropy\", metrics=[\"accuracy\"])\n",
    "            \n",
    "        hist = model.fit(x_train, y_train, epochs=100, validation_data=(x_test,y_test), callbacks=[early_stop])\n",
    "                "
   ]
  },
  {
   "cell_type": "code",
   "execution_count": 30,
   "id": "5c054635-4d69-40d0-8c3c-5208e58a3bdb",
   "metadata": {},
   "outputs": [
    {
     "data": {
      "image/png": "[encoded data removed]",
      "text/plain": [
       "<Figure size 640x480 with 1 Axes>"
      ]
     },
     "metadata": {},
     "output_type": "display_data"
    }
   ],
   "source": [
    "fig = plt.figure()\n",
    "plt.plot(hist.history[\"loss\"], color=\"blue\", label=\"loss\")\n",
    "plt.plot(hist.history[\"val_loss\"], color=\"red\", label=\"val_loss\")\n",
    "fig.suptitle(\"Loss\", fontsize=20)\n",
    "plt.legend(loc=\"upper left\")\n",
    "plt.show()"
   ]
  },
  {
   "cell_type": "code",
   "execution_count": 31,
   "id": "c3238494-ae48-4038-ada2-1c92d6c93e66",
   "metadata": {},
   "outputs": [
    {
     "data": {
      "image/png": "[encoded data removed]",
      "text/plain": [
       "<Figure size 640x480 with 1 Axes>"
      ]
     },
     "metadata": {},
     "output_type": "display_data"
    }
   ],
   "source": [
    "fig = plt.figure()\n",
    "plt.plot(hist.history[\"accuracy\"], color=\"blue\", label=\"accuracy\")\n",
    "plt.plot(hist.history[\"val_accuracy\"], color=\"red\", label=\"val_accuracy\")\n",
    "fig.suptitle(\"Accuracy\", fontsize=20)\n",
    "plt.legend(loc=\"upper left\")\n",
    "plt.show()"
   ]
  },
  {
   "cell_type": "code",
   "execution_count": 32,
   "id": "a4e0ae73-a46d-46ab-a263-e39a53e23bef",
   "metadata": {},
   "outputs": [],
   "source": [
    "#testing"
   ]
  },
  {
   "cell_type": "code",
   "execution_count": 33,
   "id": "fa650e4b-955e-4f7b-a135-9d990dbe9c3b",
   "metadata": {},
   "outputs": [
    {
     "name": "stdout",
     "output_type": "stream",
     "text": [
      "1/1 [==============================] - 0s 20ms/step - loss: 0.0795 - accuracy: 0.9565\n",
      "Accuracy =  95.652174949646 %\n"
     ]
    }
   ],
   "source": [
    "_,acc = model.evaluate(x_test, y_test)\n",
    "print(\"Accuracy = \", (acc * 100.0), \"%\")"
   ]
  }
 ],
 "metadata": {
  "kernelspec": {
   "display_name": "irisclassification",
   "language": "python",
   "name": "irisclassification"
  },
  "language_info": {
   "codemirror_mode": {
    "name": "ipython",
    "version": 3
   },
   "file_extension": ".py",
   "mimetype": "text/x-python",
   "name": "python",
   "nbconvert_exporter": "python",
   "pygments_lexer": "ipython3",
   "version": "3.9.13"
  }
 },
 "nbformat": 4,
 "nbformat_minor": 5
}
